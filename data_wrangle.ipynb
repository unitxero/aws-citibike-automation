{
 "cells": [
  {
   "cell_type": "code",
   "execution_count": 1,
   "metadata": {
    "collapsed": true
   },
   "outputs": [
    {
     "name": "stdout",
     "output_type": "stream",
     "text": [
      "857\n",
      "['dataStationInformation 2023-01-14 01:40:37.364932.json', 'dataStationInformation 2023-01-14 01:50:37.351757.json', 'dataStationInformation 2023-01-14 02:00:37.354085.json', 'dataStationInformation 2023-01-14 02:10:37.297757.json', 'dataStationInformation 2023-01-14 02:20:37.491889.json', 'dataStationInformation 2023-01-14 02:30:37.376058.json', 'dataStationInformation 2023-01-14 02:40:37.058998.json', 'dataStationInformation 2023-01-14 02:50:37.666289.json', 'dataStationInformation 2023-01-14 03:00:37.288828.json', 'dataStationInformation 2023-01-14 03:10:37.558505.json']\n"
     ]
    }
   ],
   "source": [
    "import boto3\n",
    "\n",
    "bucket_list = []\n",
    "\n",
    "s3 = boto3.resource('s3')\n",
    "s3_object = s3.Bucket('citibikejsonfiles')\n",
    "\n",
    "for file in s3_object.objects.filter(Prefix = 'dataStationInformation'):\n",
    "    file_name = file.key\n",
    "    if file_name.find(\".json\") != -1:\n",
    "        bucket_list.append(file.key)\n",
    "\n",
    "len_bucket_list = print(len(bucket_list))\n",
    "print(bucket_list[0:10])\n"
   ]
  },
  {
   "cell_type": "code",
   "execution_count": 2,
   "outputs": [
    {
     "data": {
      "text/plain": "['2023-01-14 01:40',\n '2023-01-14 01:50',\n '2023-01-14 02:00',\n '2023-01-14 02:10',\n '2023-01-14 02:20']"
     },
     "execution_count": 2,
     "metadata": {},
     "output_type": "execute_result"
    }
   ],
   "source": [
    "dataframe_key = []\n",
    "\n",
    "for file in bucket_list:\n",
    "    file_name = file[23:39]\n",
    "    dataframe_key.append(file_name)\n",
    "\n",
    "dataframe_key[:5]"
   ],
   "metadata": {
    "collapsed": false
   }
  },
  {
   "cell_type": "code",
   "execution_count": 3,
   "outputs": [],
   "source": [
    "from io import StringIO\n",
    "import io\n",
    "import pandas as pd\n",
    "\n",
    "dataframe = [] # empty list of dataframes\n",
    "\n",
    "for file in bucket_list:\n",
    "    s3_obj = s3.Object('citibikejsonfiles', file)\n",
    "    data = s3_obj.get()['Body'].read()\n",
    "    dataframe.append(pd.read_json(io.BytesIO(data)))"
   ],
   "metadata": {
    "collapsed": false
   }
  },
  {
   "cell_type": "code",
   "execution_count": 4,
   "outputs": [],
   "source": [
    "appended_data = []\n",
    "for key in range(len(dataframe)):\n",
    "    tmpDataStationInformation = pd.json_normalize(dataframe[key]['data']['stations'])\n",
    "    tmpDataStationInformation['time_stamp'] = dataframe_key[key]\n",
    "    appended_data.append(tmpDataStationInformation)\n",
    "StationInformationTimeSeries = pd.concat(appended_data, ignore_index = True)"
   ],
   "metadata": {
    "collapsed": false
   }
  },
  {
   "cell_type": "code",
   "execution_count": 5,
   "outputs": [
    {
     "data": {
      "text/plain": "   eightd_has_key_dispenser short_name  capacity     rental_methods  \\\n0                     False      JC003        22  [KEY, CREDITCARD]   \n1                     False      JC002        14  [KEY, CREDITCARD]   \n2                     False      JC008        14  [KEY, CREDITCARD]   \n3                     False      JC009        26  [KEY, CREDITCARD]   \n4                     False      JC006        22  [KEY, CREDITCARD]   \n\n            name        lon eightd_station_services station_type  \\\n0      City Hall -74.043845                      []      classic   \n1    Paulus Hook -74.033552                      []      classic   \n2   Newport Pkwy -74.032108                      []      classic   \n3  Hamilton Park -74.044247                      []      classic   \n4      Warren St -74.038051                      []      classic   \n\n   electric_bike_surcharge_waiver  has_kiosk        lat legacy_id  \\\n0                           False       True  40.717732      3185   \n1                           False       True  40.714145      3184   \n2                           False       True  40.728745      3199   \n3                           False       True  40.727596      3203   \n4                           False       True  40.721124      3187   \n\n                            external_id region_id  \\\n0  66dd5960-0aca-11e7-82f6-3863bb44ef7c        70   \n1  66dd58f2-0aca-11e7-82f6-3863bb44ef7c        70   \n2  66dd6441-0aca-11e7-82f6-3863bb44ef7c        70   \n3  66dd7b37-0aca-11e7-82f6-3863bb44ef7c        70   \n4  66dd5a42-0aca-11e7-82f6-3863bb44ef7c        70   \n\n                             station_id                      rental_uris.ios  \\\n0  66dd5960-0aca-11e7-82f6-3863bb44ef7c  https://bkn.lft.to/lastmile_qr_scan   \n1  66dd58f2-0aca-11e7-82f6-3863bb44ef7c  https://bkn.lft.to/lastmile_qr_scan   \n2  66dd6441-0aca-11e7-82f6-3863bb44ef7c  https://bkn.lft.to/lastmile_qr_scan   \n3  66dd7b37-0aca-11e7-82f6-3863bb44ef7c  https://bkn.lft.to/lastmile_qr_scan   \n4  66dd5a42-0aca-11e7-82f6-3863bb44ef7c  https://bkn.lft.to/lastmile_qr_scan   \n\n                   rental_uris.android        time_stamp  \n0  https://bkn.lft.to/lastmile_qr_scan  2023-01-14 01:40  \n1  https://bkn.lft.to/lastmile_qr_scan  2023-01-14 01:40  \n2  https://bkn.lft.to/lastmile_qr_scan  2023-01-14 01:40  \n3  https://bkn.lft.to/lastmile_qr_scan  2023-01-14 01:40  \n4  https://bkn.lft.to/lastmile_qr_scan  2023-01-14 01:40  ",
      "text/html": "<div>\n<style scoped>\n    .dataframe tbody tr th:only-of-type {\n        vertical-align: middle;\n    }\n\n    .dataframe tbody tr th {\n        vertical-align: top;\n    }\n\n    .dataframe thead th {\n        text-align: right;\n    }\n</style>\n<table border=\"1\" class=\"dataframe\">\n  <thead>\n    <tr style=\"text-align: right;\">\n      <th></th>\n      <th>eightd_has_key_dispenser</th>\n      <th>short_name</th>\n      <th>capacity</th>\n      <th>rental_methods</th>\n      <th>name</th>\n      <th>lon</th>\n      <th>eightd_station_services</th>\n      <th>station_type</th>\n      <th>electric_bike_surcharge_waiver</th>\n      <th>has_kiosk</th>\n      <th>lat</th>\n      <th>legacy_id</th>\n      <th>external_id</th>\n      <th>region_id</th>\n      <th>station_id</th>\n      <th>rental_uris.ios</th>\n      <th>rental_uris.android</th>\n      <th>time_stamp</th>\n    </tr>\n  </thead>\n  <tbody>\n    <tr>\n      <th>0</th>\n      <td>False</td>\n      <td>JC003</td>\n      <td>22</td>\n      <td>[KEY, CREDITCARD]</td>\n      <td>City Hall</td>\n      <td>-74.043845</td>\n      <td>[]</td>\n      <td>classic</td>\n      <td>False</td>\n      <td>True</td>\n      <td>40.717732</td>\n      <td>3185</td>\n      <td>66dd5960-0aca-11e7-82f6-3863bb44ef7c</td>\n      <td>70</td>\n      <td>66dd5960-0aca-11e7-82f6-3863bb44ef7c</td>\n      <td>https://bkn.lft.to/lastmile_qr_scan</td>\n      <td>https://bkn.lft.to/lastmile_qr_scan</td>\n      <td>2023-01-14 01:40</td>\n    </tr>\n    <tr>\n      <th>1</th>\n      <td>False</td>\n      <td>JC002</td>\n      <td>14</td>\n      <td>[KEY, CREDITCARD]</td>\n      <td>Paulus Hook</td>\n      <td>-74.033552</td>\n      <td>[]</td>\n      <td>classic</td>\n      <td>False</td>\n      <td>True</td>\n      <td>40.714145</td>\n      <td>3184</td>\n      <td>66dd58f2-0aca-11e7-82f6-3863bb44ef7c</td>\n      <td>70</td>\n      <td>66dd58f2-0aca-11e7-82f6-3863bb44ef7c</td>\n      <td>https://bkn.lft.to/lastmile_qr_scan</td>\n      <td>https://bkn.lft.to/lastmile_qr_scan</td>\n      <td>2023-01-14 01:40</td>\n    </tr>\n    <tr>\n      <th>2</th>\n      <td>False</td>\n      <td>JC008</td>\n      <td>14</td>\n      <td>[KEY, CREDITCARD]</td>\n      <td>Newport Pkwy</td>\n      <td>-74.032108</td>\n      <td>[]</td>\n      <td>classic</td>\n      <td>False</td>\n      <td>True</td>\n      <td>40.728745</td>\n      <td>3199</td>\n      <td>66dd6441-0aca-11e7-82f6-3863bb44ef7c</td>\n      <td>70</td>\n      <td>66dd6441-0aca-11e7-82f6-3863bb44ef7c</td>\n      <td>https://bkn.lft.to/lastmile_qr_scan</td>\n      <td>https://bkn.lft.to/lastmile_qr_scan</td>\n      <td>2023-01-14 01:40</td>\n    </tr>\n    <tr>\n      <th>3</th>\n      <td>False</td>\n      <td>JC009</td>\n      <td>26</td>\n      <td>[KEY, CREDITCARD]</td>\n      <td>Hamilton Park</td>\n      <td>-74.044247</td>\n      <td>[]</td>\n      <td>classic</td>\n      <td>False</td>\n      <td>True</td>\n      <td>40.727596</td>\n      <td>3203</td>\n      <td>66dd7b37-0aca-11e7-82f6-3863bb44ef7c</td>\n      <td>70</td>\n      <td>66dd7b37-0aca-11e7-82f6-3863bb44ef7c</td>\n      <td>https://bkn.lft.to/lastmile_qr_scan</td>\n      <td>https://bkn.lft.to/lastmile_qr_scan</td>\n      <td>2023-01-14 01:40</td>\n    </tr>\n    <tr>\n      <th>4</th>\n      <td>False</td>\n      <td>JC006</td>\n      <td>22</td>\n      <td>[KEY, CREDITCARD]</td>\n      <td>Warren St</td>\n      <td>-74.038051</td>\n      <td>[]</td>\n      <td>classic</td>\n      <td>False</td>\n      <td>True</td>\n      <td>40.721124</td>\n      <td>3187</td>\n      <td>66dd5a42-0aca-11e7-82f6-3863bb44ef7c</td>\n      <td>70</td>\n      <td>66dd5a42-0aca-11e7-82f6-3863bb44ef7c</td>\n      <td>https://bkn.lft.to/lastmile_qr_scan</td>\n      <td>https://bkn.lft.to/lastmile_qr_scan</td>\n      <td>2023-01-14 01:40</td>\n    </tr>\n  </tbody>\n</table>\n</div>"
     },
     "execution_count": 5,
     "metadata": {},
     "output_type": "execute_result"
    }
   ],
   "source": [
    "StationInformationTimeSeries.head()"
   ],
   "metadata": {
    "collapsed": false
   }
  },
  {
   "cell_type": "code",
   "execution_count": 23,
   "outputs": [
    {
     "name": "stdout",
     "output_type": "stream",
     "text": [
      "<class 'pandas.core.frame.DataFrame'>\n",
      "RangeIndex: 1835 entries, 0 to 1834\n",
      "Data columns (total 17 columns):\n",
      " #   Column                          Non-Null Count  Dtype  \n",
      "---  ------                          --------------  -----  \n",
      " 0   eightd_station_services         1835 non-null   object \n",
      " 1   station_id                      1835 non-null   object \n",
      " 2   station_type                    1835 non-null   object \n",
      " 3   has_kiosk                       1835 non-null   bool   \n",
      " 4   eightd_has_key_dispenser        1835 non-null   bool   \n",
      " 5   legacy_id                       1835 non-null   object \n",
      " 6   region_id                       1834 non-null   object \n",
      " 7   external_id                     1835 non-null   object \n",
      " 8   capacity                        1835 non-null   int64  \n",
      " 9   short_name                      1835 non-null   object \n",
      " 10  name                            1835 non-null   object \n",
      " 11  lat                             1835 non-null   float64\n",
      " 12  rental_methods                  1835 non-null   object \n",
      " 13  electric_bike_surcharge_waiver  1835 non-null   bool   \n",
      " 14  lon                             1835 non-null   float64\n",
      " 15  rental_uris.ios                 1835 non-null   object \n",
      " 16  rental_uris.android             1835 non-null   object \n",
      "dtypes: bool(3), float64(2), int64(1), object(11)\n",
      "memory usage: 206.2+ KB\n"
     ]
    }
   ],
   "source": [
    "StationInformationTimeSeries.info()"
   ],
   "metadata": {
    "collapsed": false
   }
  },
  {
   "cell_type": "markdown",
   "source": [],
   "metadata": {
    "collapsed": false
   }
  }
 ],
 "metadata": {
  "kernelspec": {
   "display_name": "Python 3",
   "language": "python",
   "name": "python3"
  },
  "language_info": {
   "codemirror_mode": {
    "name": "ipython",
    "version": 2
   },
   "file_extension": ".py",
   "mimetype": "text/x-python",
   "name": "python",
   "nbconvert_exporter": "python",
   "pygments_lexer": "ipython2",
   "version": "2.7.6"
  }
 },
 "nbformat": 4,
 "nbformat_minor": 0
}
