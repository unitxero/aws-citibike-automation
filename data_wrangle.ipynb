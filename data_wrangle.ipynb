{
 "cells": [
  {
   "cell_type": "code",
   "execution_count": 2,
   "metadata": {
    "collapsed": true
   },
   "outputs": [
    {
     "name": "stdout",
     "output_type": "stream",
     "text": [
      "731\n",
      "['dataStationInformation 2023-01-14 01:40:37.364932.json', 'dataStationInformation 2023-01-14 01:50:37.351757.json', 'dataStationInformation 2023-01-14 02:00:37.354085.json', 'dataStationInformation 2023-01-14 02:10:37.297757.json', 'dataStationInformation 2023-01-14 02:20:37.491889.json', 'dataStationInformation 2023-01-14 02:30:37.376058.json', 'dataStationInformation 2023-01-14 02:40:37.058998.json', 'dataStationInformation 2023-01-14 02:50:37.666289.json', 'dataStationInformation 2023-01-14 03:00:37.288828.json', 'dataStationInformation 2023-01-14 03:10:37.558505.json']\n"
     ]
    }
   ],
   "source": [
    "import boto3\n",
    "\n",
    "bucket_list = []\n",
    "\n",
    "s3 = boto3.resource('s3')\n",
    "s3_object = s3.Bucket('citibikejsonfiles')\n",
    "\n",
    "for file in s3_object.objects.filter(Prefix = 'dataStationInformation'):\n",
    "    file_name = file.key\n",
    "    if file_name.find(\".json\") != -1:\n",
    "        bucket_list.append(file.key)\n",
    "\n",
    "len_bucket_list = print(len(bucket_list))\n",
    "print(bucket_list[0:10])\n"
   ]
  },
  {
   "cell_type": "code",
   "execution_count": 8,
   "outputs": [],
   "source": [
    "from io import StringIO\n",
    "import io\n",
    "import pandas as pd\n",
    "\n",
    "dataframe = [] # empty list of dataframes\n",
    "\n",
    "for file in bucket_list:\n",
    "    s3_obj = s3.Object('citibikejsonfiles', file)\n",
    "    data = s3_obj.get()['Body'].read()\n",
    "    dataframe.append(pd.read_json(io.BytesIO(data)))"
   ],
   "metadata": {
    "collapsed": false,
    "pycharm": {
     "name": "#%%\n"
    }
   }
  },
  {
   "cell_type": "code",
   "execution_count": 15,
   "outputs": [
    {
     "data": {
      "text/plain": "731"
     },
     "execution_count": 15,
     "metadata": {},
     "output_type": "execute_result"
    }
   ],
   "source": [
    "len(dataframe)"
   ],
   "metadata": {
    "collapsed": false,
    "pycharm": {
     "name": "#%%\n"
    }
   }
  },
  {
   "cell_type": "code",
   "execution_count": 17,
   "outputs": [
    {
     "data": {
      "text/plain": "                                                       data  last_updated  ttl\nstations  [{'eightd_has_key_dispenser': False, 'short_na...    1673660428    5",
      "text/html": "<div>\n<style scoped>\n    .dataframe tbody tr th:only-of-type {\n        vertical-align: middle;\n    }\n\n    .dataframe tbody tr th {\n        vertical-align: top;\n    }\n\n    .dataframe thead th {\n        text-align: right;\n    }\n</style>\n<table border=\"1\" class=\"dataframe\">\n  <thead>\n    <tr style=\"text-align: right;\">\n      <th></th>\n      <th>data</th>\n      <th>last_updated</th>\n      <th>ttl</th>\n    </tr>\n  </thead>\n  <tbody>\n    <tr>\n      <th>stations</th>\n      <td>[{'eightd_has_key_dispenser': False, 'short_na...</td>\n      <td>1673660428</td>\n      <td>5</td>\n    </tr>\n  </tbody>\n</table>\n</div>"
     },
     "execution_count": 17,
     "metadata": {},
     "output_type": "execute_result"
    }
   ],
   "source": [
    "dataframe[0]"
   ],
   "metadata": {
    "collapsed": false,
    "pycharm": {
     "name": "#%%\n"
    }
   }
  },
  {
   "cell_type": "code",
   "execution_count": 22,
   "outputs": [
    {
     "data": {
      "text/plain": "     eightd_station_services                            station_id  \\\n0                         []  66dd5960-0aca-11e7-82f6-3863bb44ef7c   \n1                         []  66dd58f2-0aca-11e7-82f6-3863bb44ef7c   \n2                         []  66dd7b37-0aca-11e7-82f6-3863bb44ef7c   \n3                         []  66dd6441-0aca-11e7-82f6-3863bb44ef7c   \n4                         []  66dd5a42-0aca-11e7-82f6-3863bb44ef7c   \n...                      ...                                   ...   \n1830                      []                                  5014   \n1831                      []                                  5020   \n1832                      []                                  5021   \n1833                      []                                  5022   \n1834                      []                                  5024   \n\n     station_type  has_kiosk  eightd_has_key_dispenser legacy_id region_id  \\\n0         classic       True                     False      3185        70   \n1         classic       True                     False      3184        70   \n2         classic       True                     False      3203        70   \n3         classic       True                     False      3199        70   \n4         classic       True                     False      3187        70   \n...           ...        ...                       ...       ...       ...   \n1830      classic       True                     False      5014        71   \n1831      classic       True                     False      5020        71   \n1832      classic      False                     False      5021        71   \n1833      classic       True                     False      5022        70   \n1834      classic       True                     False      5024        71   \n\n                               external_id  capacity short_name  \\\n0     66dd5960-0aca-11e7-82f6-3863bb44ef7c        22      JC003   \n1     66dd58f2-0aca-11e7-82f6-3863bb44ef7c        14      JC002   \n2     66dd7b37-0aca-11e7-82f6-3863bb44ef7c        26      JC009   \n3     66dd6441-0aca-11e7-82f6-3863bb44ef7c        14      JC008   \n4     66dd5a42-0aca-11e7-82f6-3863bb44ef7c        22      JC006   \n...                                    ...       ...        ...   \n1830  81640d04-c36a-4fb1-98b0-85be10be516c        21    4080.01   \n1831  c7dbc7b5-240b-494d-8663-dbee4103a20c        21    3934.07   \n1832  1789e458-c466-4d77-aba6-365f5c3823ed         0    4196.01   \n1833  2290031f-e7d8-40a3-9ad6-566df493bbbc        42      JC115   \n1834  0dc63044-e19c-474d-9df1-c3e504d03b07        32    5769.06   \n\n                              name        lat     rental_methods  \\\n0                        City Hall  40.717732  [KEY, CREDITCARD]   \n1                      Paulus Hook  40.714145  [KEY, CREDITCARD]   \n2                    Hamilton Park  40.727596  [KEY, CREDITCARD]   \n3                     Newport Pkwy  40.728745  [KEY, CREDITCARD]   \n4                        Warren St  40.721124  [KEY, CREDITCARD]   \n...                            ...        ...                ...   \n1830  Schenectady Ave & Pacific St  40.676860  [CREDITCARD, KEY]   \n1831            Troy Ave & Park Pl  40.672510  [CREDITCARD, KEY]   \n1832         Lewis Ave & Fulton St  40.679720  [CREDITCARD, KEY]   \n1833                 Grove St PATH  40.719410  [CREDITCARD, KEY]   \n1834               Ave C & E 16 St  40.729848  [CREDITCARD, KEY]   \n\n      electric_bike_surcharge_waiver        lon  \\\n0                              False -74.043845   \n1                              False -74.033552   \n2                              False -74.044247   \n3                              False -74.032108   \n4                              False -74.038051   \n...                              ...        ...   \n1830                           False -73.933270   \n1831                           False -73.936420   \n1832                           False -73.934670   \n1833                           False -74.043090   \n1834                           False -73.974552   \n\n                          rental_uris.ios                  rental_uris.android  \n0     https://bkn.lft.to/lastmile_qr_scan  https://bkn.lft.to/lastmile_qr_scan  \n1     https://bkn.lft.to/lastmile_qr_scan  https://bkn.lft.to/lastmile_qr_scan  \n2     https://bkn.lft.to/lastmile_qr_scan  https://bkn.lft.to/lastmile_qr_scan  \n3     https://bkn.lft.to/lastmile_qr_scan  https://bkn.lft.to/lastmile_qr_scan  \n4     https://bkn.lft.to/lastmile_qr_scan  https://bkn.lft.to/lastmile_qr_scan  \n...                                   ...                                  ...  \n1830  https://bkn.lft.to/lastmile_qr_scan  https://bkn.lft.to/lastmile_qr_scan  \n1831  https://bkn.lft.to/lastmile_qr_scan  https://bkn.lft.to/lastmile_qr_scan  \n1832  https://bkn.lft.to/lastmile_qr_scan  https://bkn.lft.to/lastmile_qr_scan  \n1833  https://bkn.lft.to/lastmile_qr_scan  https://bkn.lft.to/lastmile_qr_scan  \n1834  https://bkn.lft.to/lastmile_qr_scan  https://bkn.lft.to/lastmile_qr_scan  \n\n[1835 rows x 17 columns]",
      "text/html": "<div>\n<style scoped>\n    .dataframe tbody tr th:only-of-type {\n        vertical-align: middle;\n    }\n\n    .dataframe tbody tr th {\n        vertical-align: top;\n    }\n\n    .dataframe thead th {\n        text-align: right;\n    }\n</style>\n<table border=\"1\" class=\"dataframe\">\n  <thead>\n    <tr style=\"text-align: right;\">\n      <th></th>\n      <th>eightd_station_services</th>\n      <th>station_id</th>\n      <th>station_type</th>\n      <th>has_kiosk</th>\n      <th>eightd_has_key_dispenser</th>\n      <th>legacy_id</th>\n      <th>region_id</th>\n      <th>external_id</th>\n      <th>capacity</th>\n      <th>short_name</th>\n      <th>name</th>\n      <th>lat</th>\n      <th>rental_methods</th>\n      <th>electric_bike_surcharge_waiver</th>\n      <th>lon</th>\n      <th>rental_uris.ios</th>\n      <th>rental_uris.android</th>\n    </tr>\n  </thead>\n  <tbody>\n    <tr>\n      <th>0</th>\n      <td>[]</td>\n      <td>66dd5960-0aca-11e7-82f6-3863bb44ef7c</td>\n      <td>classic</td>\n      <td>True</td>\n      <td>False</td>\n      <td>3185</td>\n      <td>70</td>\n      <td>66dd5960-0aca-11e7-82f6-3863bb44ef7c</td>\n      <td>22</td>\n      <td>JC003</td>\n      <td>City Hall</td>\n      <td>40.717732</td>\n      <td>[KEY, CREDITCARD]</td>\n      <td>False</td>\n      <td>-74.043845</td>\n      <td>https://bkn.lft.to/lastmile_qr_scan</td>\n      <td>https://bkn.lft.to/lastmile_qr_scan</td>\n    </tr>\n    <tr>\n      <th>1</th>\n      <td>[]</td>\n      <td>66dd58f2-0aca-11e7-82f6-3863bb44ef7c</td>\n      <td>classic</td>\n      <td>True</td>\n      <td>False</td>\n      <td>3184</td>\n      <td>70</td>\n      <td>66dd58f2-0aca-11e7-82f6-3863bb44ef7c</td>\n      <td>14</td>\n      <td>JC002</td>\n      <td>Paulus Hook</td>\n      <td>40.714145</td>\n      <td>[KEY, CREDITCARD]</td>\n      <td>False</td>\n      <td>-74.033552</td>\n      <td>https://bkn.lft.to/lastmile_qr_scan</td>\n      <td>https://bkn.lft.to/lastmile_qr_scan</td>\n    </tr>\n    <tr>\n      <th>2</th>\n      <td>[]</td>\n      <td>66dd7b37-0aca-11e7-82f6-3863bb44ef7c</td>\n      <td>classic</td>\n      <td>True</td>\n      <td>False</td>\n      <td>3203</td>\n      <td>70</td>\n      <td>66dd7b37-0aca-11e7-82f6-3863bb44ef7c</td>\n      <td>26</td>\n      <td>JC009</td>\n      <td>Hamilton Park</td>\n      <td>40.727596</td>\n      <td>[KEY, CREDITCARD]</td>\n      <td>False</td>\n      <td>-74.044247</td>\n      <td>https://bkn.lft.to/lastmile_qr_scan</td>\n      <td>https://bkn.lft.to/lastmile_qr_scan</td>\n    </tr>\n    <tr>\n      <th>3</th>\n      <td>[]</td>\n      <td>66dd6441-0aca-11e7-82f6-3863bb44ef7c</td>\n      <td>classic</td>\n      <td>True</td>\n      <td>False</td>\n      <td>3199</td>\n      <td>70</td>\n      <td>66dd6441-0aca-11e7-82f6-3863bb44ef7c</td>\n      <td>14</td>\n      <td>JC008</td>\n      <td>Newport Pkwy</td>\n      <td>40.728745</td>\n      <td>[KEY, CREDITCARD]</td>\n      <td>False</td>\n      <td>-74.032108</td>\n      <td>https://bkn.lft.to/lastmile_qr_scan</td>\n      <td>https://bkn.lft.to/lastmile_qr_scan</td>\n    </tr>\n    <tr>\n      <th>4</th>\n      <td>[]</td>\n      <td>66dd5a42-0aca-11e7-82f6-3863bb44ef7c</td>\n      <td>classic</td>\n      <td>True</td>\n      <td>False</td>\n      <td>3187</td>\n      <td>70</td>\n      <td>66dd5a42-0aca-11e7-82f6-3863bb44ef7c</td>\n      <td>22</td>\n      <td>JC006</td>\n      <td>Warren St</td>\n      <td>40.721124</td>\n      <td>[KEY, CREDITCARD]</td>\n      <td>False</td>\n      <td>-74.038051</td>\n      <td>https://bkn.lft.to/lastmile_qr_scan</td>\n      <td>https://bkn.lft.to/lastmile_qr_scan</td>\n    </tr>\n    <tr>\n      <th>...</th>\n      <td>...</td>\n      <td>...</td>\n      <td>...</td>\n      <td>...</td>\n      <td>...</td>\n      <td>...</td>\n      <td>...</td>\n      <td>...</td>\n      <td>...</td>\n      <td>...</td>\n      <td>...</td>\n      <td>...</td>\n      <td>...</td>\n      <td>...</td>\n      <td>...</td>\n      <td>...</td>\n      <td>...</td>\n    </tr>\n    <tr>\n      <th>1830</th>\n      <td>[]</td>\n      <td>5014</td>\n      <td>classic</td>\n      <td>True</td>\n      <td>False</td>\n      <td>5014</td>\n      <td>71</td>\n      <td>81640d04-c36a-4fb1-98b0-85be10be516c</td>\n      <td>21</td>\n      <td>4080.01</td>\n      <td>Schenectady Ave &amp; Pacific St</td>\n      <td>40.676860</td>\n      <td>[CREDITCARD, KEY]</td>\n      <td>False</td>\n      <td>-73.933270</td>\n      <td>https://bkn.lft.to/lastmile_qr_scan</td>\n      <td>https://bkn.lft.to/lastmile_qr_scan</td>\n    </tr>\n    <tr>\n      <th>1831</th>\n      <td>[]</td>\n      <td>5020</td>\n      <td>classic</td>\n      <td>True</td>\n      <td>False</td>\n      <td>5020</td>\n      <td>71</td>\n      <td>c7dbc7b5-240b-494d-8663-dbee4103a20c</td>\n      <td>21</td>\n      <td>3934.07</td>\n      <td>Troy Ave &amp; Park Pl</td>\n      <td>40.672510</td>\n      <td>[CREDITCARD, KEY]</td>\n      <td>False</td>\n      <td>-73.936420</td>\n      <td>https://bkn.lft.to/lastmile_qr_scan</td>\n      <td>https://bkn.lft.to/lastmile_qr_scan</td>\n    </tr>\n    <tr>\n      <th>1832</th>\n      <td>[]</td>\n      <td>5021</td>\n      <td>classic</td>\n      <td>False</td>\n      <td>False</td>\n      <td>5021</td>\n      <td>71</td>\n      <td>1789e458-c466-4d77-aba6-365f5c3823ed</td>\n      <td>0</td>\n      <td>4196.01</td>\n      <td>Lewis Ave &amp; Fulton St</td>\n      <td>40.679720</td>\n      <td>[CREDITCARD, KEY]</td>\n      <td>False</td>\n      <td>-73.934670</td>\n      <td>https://bkn.lft.to/lastmile_qr_scan</td>\n      <td>https://bkn.lft.to/lastmile_qr_scan</td>\n    </tr>\n    <tr>\n      <th>1833</th>\n      <td>[]</td>\n      <td>5022</td>\n      <td>classic</td>\n      <td>True</td>\n      <td>False</td>\n      <td>5022</td>\n      <td>70</td>\n      <td>2290031f-e7d8-40a3-9ad6-566df493bbbc</td>\n      <td>42</td>\n      <td>JC115</td>\n      <td>Grove St PATH</td>\n      <td>40.719410</td>\n      <td>[CREDITCARD, KEY]</td>\n      <td>False</td>\n      <td>-74.043090</td>\n      <td>https://bkn.lft.to/lastmile_qr_scan</td>\n      <td>https://bkn.lft.to/lastmile_qr_scan</td>\n    </tr>\n    <tr>\n      <th>1834</th>\n      <td>[]</td>\n      <td>5024</td>\n      <td>classic</td>\n      <td>True</td>\n      <td>False</td>\n      <td>5024</td>\n      <td>71</td>\n      <td>0dc63044-e19c-474d-9df1-c3e504d03b07</td>\n      <td>32</td>\n      <td>5769.06</td>\n      <td>Ave C &amp; E 16 St</td>\n      <td>40.729848</td>\n      <td>[CREDITCARD, KEY]</td>\n      <td>False</td>\n      <td>-73.974552</td>\n      <td>https://bkn.lft.to/lastmile_qr_scan</td>\n      <td>https://bkn.lft.to/lastmile_qr_scan</td>\n    </tr>\n  </tbody>\n</table>\n<p>1835 rows × 17 columns</p>\n</div>"
     },
     "execution_count": 22,
     "metadata": {},
     "output_type": "execute_result"
    }
   ],
   "source": [
    "dataStationInformation = pd.json_normalize(dataframe[730]['data']['stations'])\n",
    "dataStationInformation"
   ],
   "metadata": {
    "collapsed": false,
    "pycharm": {
     "name": "#%%\n"
    }
   }
  },
  {
   "cell_type": "code",
   "execution_count": 24,
   "outputs": [
    {
     "data": {
      "text/plain": "False    1835\nName: station_id, dtype: int64"
     },
     "execution_count": 24,
     "metadata": {},
     "output_type": "execute_result"
    }
   ],
   "source": [
    "vc = dataStationInformation.station_id.duplicated()\n",
    "vc.value_counts()"
   ],
   "metadata": {
    "collapsed": false,
    "pycharm": {
     "name": "#%%\n"
    }
   }
  },
  {
   "cell_type": "code",
   "execution_count": 23,
   "outputs": [
    {
     "name": "stdout",
     "output_type": "stream",
     "text": [
      "<class 'pandas.core.frame.DataFrame'>\n",
      "RangeIndex: 1835 entries, 0 to 1834\n",
      "Data columns (total 17 columns):\n",
      " #   Column                          Non-Null Count  Dtype  \n",
      "---  ------                          --------------  -----  \n",
      " 0   eightd_station_services         1835 non-null   object \n",
      " 1   station_id                      1835 non-null   object \n",
      " 2   station_type                    1835 non-null   object \n",
      " 3   has_kiosk                       1835 non-null   bool   \n",
      " 4   eightd_has_key_dispenser        1835 non-null   bool   \n",
      " 5   legacy_id                       1835 non-null   object \n",
      " 6   region_id                       1834 non-null   object \n",
      " 7   external_id                     1835 non-null   object \n",
      " 8   capacity                        1835 non-null   int64  \n",
      " 9   short_name                      1835 non-null   object \n",
      " 10  name                            1835 non-null   object \n",
      " 11  lat                             1835 non-null   float64\n",
      " 12  rental_methods                  1835 non-null   object \n",
      " 13  electric_bike_surcharge_waiver  1835 non-null   bool   \n",
      " 14  lon                             1835 non-null   float64\n",
      " 15  rental_uris.ios                 1835 non-null   object \n",
      " 16  rental_uris.android             1835 non-null   object \n",
      "dtypes: bool(3), float64(2), int64(1), object(11)\n",
      "memory usage: 206.2+ KB\n"
     ]
    }
   ],
   "source": [
    "dataStationInformation.info()"
   ],
   "metadata": {
    "collapsed": false,
    "pycharm": {
     "name": "#%%\n"
    }
   }
  },
  {
   "cell_type": "code",
   "execution_count": null,
   "outputs": [],
   "source": [],
   "metadata": {
    "collapsed": false,
    "pycharm": {
     "name": "#%%\n"
    }
   }
  },
  {
   "cell_type": "markdown",
   "source": [],
   "metadata": {
    "collapsed": false
   }
  }
 ],
 "metadata": {
  "kernelspec": {
   "display_name": "Python 3",
   "language": "python",
   "name": "python3"
  },
  "language_info": {
   "codemirror_mode": {
    "name": "ipython",
    "version": 2
   },
   "file_extension": ".py",
   "mimetype": "text/x-python",
   "name": "python",
   "nbconvert_exporter": "python",
   "pygments_lexer": "ipython2",
   "version": "2.7.6"
  }
 },
 "nbformat": 4,
 "nbformat_minor": 0
}