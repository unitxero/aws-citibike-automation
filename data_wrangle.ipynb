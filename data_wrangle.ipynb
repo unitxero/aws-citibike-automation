{
 "cells": [
  {
   "cell_type": "code",
   "execution_count": 1,
   "metadata": {
    "collapsed": true
   },
   "outputs": [
    {
     "name": "stdout",
     "output_type": "stream",
     "text": [
      "998\n",
      "['dataStationInformation 2023-01-14 01:40:37.364932.json', 'dataStationInformation 2023-01-14 01:50:37.351757.json', 'dataStationInformation 2023-01-14 02:00:37.354085.json', 'dataStationInformation 2023-01-14 02:10:37.297757.json', 'dataStationInformation 2023-01-14 02:20:37.491889.json', 'dataStationInformation 2023-01-14 02:30:37.376058.json', 'dataStationInformation 2023-01-14 02:40:37.058998.json', 'dataStationInformation 2023-01-14 02:50:37.666289.json', 'dataStationInformation 2023-01-14 03:00:37.288828.json', 'dataStationInformation 2023-01-14 03:10:37.558505.json']\n"
     ]
    }
   ],
   "source": [
    "import boto3\n",
    "\n",
    "bucket_list_dataStationInformation = []\n",
    "\n",
    "s3 = boto3.resource('s3')\n",
    "s3_object = s3.Bucket('citibikejsonfiles')\n",
    "\n",
    "for file in s3_object.objects.filter(Prefix = 'dataStationInformation'):\n",
    "    file_name = file.key\n",
    "    if file_name.find(\".json\") != -1:\n",
    "        bucket_list_dataStationInformation.append(file.key)\n",
    "\n",
    "len_bucket_list_dataStationInformation = print(len(bucket_list_dataStationInformation))\n",
    "print(bucket_list_dataStationInformation[0:10])\n"
   ]
  },
  {
   "cell_type": "code",
   "execution_count": 2,
   "outputs": [
    {
     "name": "stdout",
     "output_type": "stream",
     "text": [
      "998\n",
      "['dataStationStatus 2023-01-14 01:40:36.938626.json', 'dataStationStatus 2023-01-14 01:50:36.909127.json', 'dataStationStatus 2023-01-14 02:00:36.817121.json', 'dataStationStatus 2023-01-14 02:10:36.800837.json', 'dataStationStatus 2023-01-14 02:20:37.034204.json', 'dataStationStatus 2023-01-14 02:30:36.863208.json', 'dataStationStatus 2023-01-14 02:40:36.607410.json', 'dataStationStatus 2023-01-14 02:50:37.224251.json', 'dataStationStatus 2023-01-14 03:00:36.820247.json', 'dataStationStatus 2023-01-14 03:10:37.096055.json']\n"
     ]
    }
   ],
   "source": [
    "# To import dataStationStatus s3 files\n",
    "\n",
    "bucket_list_dataStationStatus = []\n",
    "\n",
    "for file in s3_object.objects.filter(Prefix = 'dataStationStatus'):\n",
    "    file_name_status = file.key\n",
    "    if file_name_status.find(\".json\") != -1:\n",
    "        bucket_list_dataStationStatus.append(file.key)\n",
    "\n",
    "len_bucket_list_dataStationStatus = print(len(bucket_list_dataStationStatus))\n",
    "print(bucket_list_dataStationStatus[0:10])"
   ],
   "metadata": {
    "collapsed": false,
    "pycharm": {
     "name": "#%%\n"
    }
   }
  },
  {
   "cell_type": "code",
   "execution_count": 3,
   "outputs": [
    {
     "data": {
      "text/plain": "['2023-01-14 01:40',\n '2023-01-14 01:50',\n '2023-01-14 02:00',\n '2023-01-14 02:10',\n '2023-01-14 02:20']"
     },
     "execution_count": 3,
     "metadata": {},
     "output_type": "execute_result"
    }
   ],
   "source": [
    "# To get the timestamp key for DataStationInformation\n",
    "dataframe_key_dataStationInformation = []\n",
    "\n",
    "for file in bucket_list_dataStationInformation:\n",
    "    file_name = file[23:39]\n",
    "    dataframe_key_dataStationInformation.append(file_name)\n",
    "\n",
    "dataframe_key_dataStationInformation[:5]"
   ],
   "metadata": {
    "collapsed": false
   }
  },
  {
   "cell_type": "code",
   "execution_count": 4,
   "outputs": [
    {
     "data": {
      "text/plain": "['2023-01-14 01:40',\n '2023-01-14 01:50',\n '2023-01-14 02:00',\n '2023-01-14 02:10',\n '2023-01-14 02:20']"
     },
     "execution_count": 4,
     "metadata": {},
     "output_type": "execute_result"
    }
   ],
   "source": [
    "# To get the timestamp key for DataStationStatus\n",
    "dataframe_key_dataStationStatus = []\n",
    "\n",
    "for file in bucket_list_dataStationStatus:\n",
    "    file_name = file[-31:-15] # need to update\n",
    "    dataframe_key_dataStationStatus.append(file_name)\n",
    "\n",
    "dataframe_key_dataStationStatus[:5]"
   ],
   "metadata": {
    "collapsed": false,
    "pycharm": {
     "name": "#%%\n"
    }
   }
  },
  {
   "cell_type": "code",
   "execution_count": 5,
   "outputs": [],
   "source": [
    "from io import StringIO\n",
    "import io\n",
    "import pandas as pd\n",
    "\n",
    "dataframe_dataStationInformation = [] # empty list of dataframes\n",
    "\n",
    "for file in bucket_list_dataStationInformation:\n",
    "    s3_obj = s3.Object('citibikejsonfiles', file)\n",
    "    data = s3_obj.get()['Body'].read()\n",
    "    dataframe_dataStationInformation.append(pd.read_json(io.BytesIO(data)))"
   ],
   "metadata": {
    "collapsed": false
   }
  },
  {
   "cell_type": "code",
   "execution_count": null,
   "outputs": [],
   "source": [
    "dataframe_dataStationStatus = [] # empty list of dataframes\n",
    "\n",
    "for file in bucket_list_dataStationStatus:\n",
    "    s3_obj = s3.Object('citibikejsonfiles', file)\n",
    "    data = s3_obj.get()['Body'].read()\n",
    "    dataframe_dataStationStatus.append(pd.read_json(io.BytesIO(data)))"
   ],
   "metadata": {
    "collapsed": false,
    "pycharm": {
     "name": "#%%\n"
    }
   }
  },
  {
   "cell_type": "code",
   "execution_count": 8,
   "outputs": [],
   "source": [
    "# StationInformationTimeSeries is the DataFrame\n",
    "\n",
    "appendedDataStationInformation = []\n",
    "for key in range(len(dataframe_dataStationInformation)):\n",
    "    tmpDataStationInformation = pd.json_normalize(dataframe_dataStationInformation[key]['data']['stations'])\n",
    "    tmpDataStationInformation['time_stamp'] = dataframe_key_dataStationInformation[key]\n",
    "    appendedDataStationInformation.append(tmpDataStationInformation)\n",
    "StationInformationTimeSeries = pd.concat(appendedDataStationInformation, ignore_index = True)\n",
    "\n",
    "# 'time_stamp', 'station_id', 'name', 'short_name', 'capacity', 'has_kiosk', 'region_id', 'lat', 'lon'"
   ],
   "metadata": {
    "collapsed": false
   }
  },
  {
   "cell_type": "code",
   "execution_count": null,
   "outputs": [],
   "source": [
    "# StationStatusTimeSeries is the DataFrame\n",
    "\n",
    "appendedDataStationStatus = []\n",
    "\n",
    "for key in range(len(dataframe_dataStationStatus)):\n",
    "    tmpDataStationStatus = pd.json_normalize(dataframe_dataStationStatus[key]['data']['stations'])\n",
    "    tmpDataStationStatus['time_stamp'] = dataframe_key_dataStationStatus[key]\n",
    "    appendedDataStationStatus.append(tmpDataStationStatus)\n",
    "StationStatusTimeSeries = pd.concat(appendedDataStationStatus, ignore_index = True)\n",
    "\n",
    "# 'time_stamp', 'station_id', 'station_status', 'num_bikes_available', 'num_bikes_disabled',\n",
    "# 'num_docks_available', 'num_docks_disabled', 'num_ebikes_available', 'is_renting',\n",
    "# 'is_returning', 'is_installed', 'last_reported'"
   ],
   "metadata": {
    "collapsed": false,
    "pycharm": {
     "name": "#%%\n"
    }
   }
  },
  {
   "cell_type": "code",
   "execution_count": null,
   "outputs": [],
   "source": [
    "# Dropping a weird station identified as 4987 that returned NaN results and may be an offline station\n",
    "# Last code line is the finalized columns for the DataFrame\n",
    "\n",
    "StationInformationTimeSeries.drop(StationInformationTimeSeries[(StationInformationTimeSeries.lat == 0.0) & (StationInformationTimeSeries.lon == 0.0)].index, inplace = True)\n",
    "\n",
    "StationInformationTimeSeries = StationInformationTimeSeries[['time_stamp', 'station_id', 'name', 'short_name', 'capacity', 'has_kiosk', 'region_id', 'lat', 'lon']]"
   ],
   "metadata": {
    "collapsed": false
   }
  },
  {
   "cell_type": "code",
   "execution_count": null,
   "outputs": [],
   "source": [
    "# Dropping a weird station identified as 4987 that returned NaN results and may be an offline station\n",
    "# Last code line is the finalized columns for the DataFrame\n",
    "\n",
    "StationStatusTimeSeries.drop(StationStatusTimeSeries[StationStatusTimeSeries.station_id == '4987'].index, inplace = True)\n",
    "\n",
    "StationStatusTimeSeries = StationStatusTimeSeries[['time_stamp', 'station_id', 'station_status', 'num_bikes_available', 'num_bikes_disabled', 'num_docks_available', 'num_docks_disabled', 'num_ebikes_available', 'is_renting', 'is_returning', 'is_installed', 'last_reported']]"
   ],
   "metadata": {
    "collapsed": false
   }
  },
  {
   "cell_type": "markdown",
   "source": [],
   "metadata": {
    "collapsed": false
   }
  }
 ],
 "metadata": {
  "kernelspec": {
   "display_name": "Python 3",
   "language": "python",
   "name": "python3"
  },
  "language_info": {
   "codemirror_mode": {
    "name": "ipython",
    "version": 2
   },
   "file_extension": ".py",
   "mimetype": "text/x-python",
   "name": "python",
   "nbconvert_exporter": "python",
   "pygments_lexer": "ipython2",
   "version": "2.7.6"
  }
 },
 "nbformat": 4,
 "nbformat_minor": 0
}