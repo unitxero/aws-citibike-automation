{
 "cells": [
  {
   "cell_type": "code",
   "execution_count": 1,
   "metadata": {
    "collapsed": true
   },
   "outputs": [
    {
     "name": "stdout",
     "output_type": "stream",
     "text": [
      "998\n",
      "['dataStationInformation 2023-01-14 01:40:37.364932.json', 'dataStationInformation 2023-01-14 01:50:37.351757.json', 'dataStationInformation 2023-01-14 02:00:37.354085.json', 'dataStationInformation 2023-01-14 02:10:37.297757.json', 'dataStationInformation 2023-01-14 02:20:37.491889.json', 'dataStationInformation 2023-01-14 02:30:37.376058.json', 'dataStationInformation 2023-01-14 02:40:37.058998.json', 'dataStationInformation 2023-01-14 02:50:37.666289.json', 'dataStationInformation 2023-01-14 03:00:37.288828.json', 'dataStationInformation 2023-01-14 03:10:37.558505.json']\n"
     ]
    }
   ],
   "source": [
    "import boto3\n",
    "\n",
    "bucket_list_dataStationInformation = []\n",
    "\n",
    "s3 = boto3.resource('s3')\n",
    "s3_object = s3.Bucket('citibikejsonfiles')\n",
    "\n",
    "for file in s3_object.objects.filter(Prefix = 'dataStationInformation'):\n",
    "    file_name = file.key\n",
    "    if file_name.find(\".json\") != -1:\n",
    "        bucket_list_dataStationInformation.append(file.key)\n",
    "\n",
    "len_bucket_list_dataStationInformation = print(len(bucket_list_dataStationInformation))\n",
    "print(bucket_list_dataStationInformation[0:10])\n"
   ]
  },
  {
   "cell_type": "code",
   "execution_count": 2,
   "outputs": [
    {
     "name": "stdout",
     "output_type": "stream",
     "text": [
      "998\n",
      "['dataStationStatus 2023-01-14 01:40:36.938626.json', 'dataStationStatus 2023-01-14 01:50:36.909127.json', 'dataStationStatus 2023-01-14 02:00:36.817121.json', 'dataStationStatus 2023-01-14 02:10:36.800837.json', 'dataStationStatus 2023-01-14 02:20:37.034204.json', 'dataStationStatus 2023-01-14 02:30:36.863208.json', 'dataStationStatus 2023-01-14 02:40:36.607410.json', 'dataStationStatus 2023-01-14 02:50:37.224251.json', 'dataStationStatus 2023-01-14 03:00:36.820247.json', 'dataStationStatus 2023-01-14 03:10:37.096055.json']\n"
     ]
    }
   ],
   "source": [
    "# To import dataStationStatus s3 files\n",
    "\n",
    "bucket_list_dataStationStatus = []\n",
    "\n",
    "for file in s3_object.objects.filter(Prefix = 'dataStationStatus'):\n",
    "    file_name_status = file.key\n",
    "    if file_name_status.find(\".json\") != -1:\n",
    "        bucket_list_dataStationStatus.append(file.key)\n",
    "\n",
    "len_bucket_list_dataStationStatus = print(len(bucket_list_dataStationStatus))\n",
    "print(bucket_list_dataStationStatus[0:10])"
   ],
   "metadata": {
    "collapsed": false,
    "pycharm": {
     "name": "#%%\n"
    }
   }
  },
  {
   "cell_type": "code",
   "execution_count": 3,
   "outputs": [
    {
     "data": {
      "text/plain": "['2023-01-14 01:40',\n '2023-01-14 01:50',\n '2023-01-14 02:00',\n '2023-01-14 02:10',\n '2023-01-14 02:20']"
     },
     "execution_count": 3,
     "metadata": {},
     "output_type": "execute_result"
    }
   ],
   "source": [
    "# To get the timestamp key for DataStationInformation\n",
    "dataframe_key_dataStationInformation = []\n",
    "\n",
    "for file in bucket_list_dataStationInformation:\n",
    "    file_name = file[23:39]\n",
    "    dataframe_key_dataStationInformation.append(file_name)\n",
    "\n",
    "dataframe_key_dataStationInformation[:5]"
   ],
   "metadata": {
    "collapsed": false
   }
  },
  {
   "cell_type": "code",
   "execution_count": 4,
   "outputs": [
    {
     "data": {
      "text/plain": "['2023-01-14 01:40',\n '2023-01-14 01:50',\n '2023-01-14 02:00',\n '2023-01-14 02:10',\n '2023-01-14 02:20']"
     },
     "execution_count": 4,
     "metadata": {},
     "output_type": "execute_result"
    }
   ],
   "source": [
    "# To get the timestamp key for DataStationStatus\n",
    "dataframe_key_dataStationStatus = []\n",
    "\n",
    "for file in bucket_list_dataStationStatus:\n",
    "    file_name = file[-31:-15] # need to update\n",
    "    dataframe_key_dataStationStatus.append(file_name)\n",
    "\n",
    "dataframe_key_dataStationStatus[:5]"
   ],
   "metadata": {
    "collapsed": false,
    "pycharm": {
     "name": "#%%\n"
    }
   }
  },
  {
   "cell_type": "code",
   "execution_count": 5,
   "outputs": [],
   "source": [
    "from io import StringIO\n",
    "import io\n",
    "import pandas as pd\n",
    "\n",
    "dataframe_dataStationInformation = [] # empty list of dataframes\n",
    "\n",
    "for file in bucket_list_dataStationInformation:\n",
    "    s3_obj = s3.Object('citibikejsonfiles', file)\n",
    "    data = s3_obj.get()['Body'].read()\n",
    "    dataframe_dataStationInformation.append(pd.read_json(io.BytesIO(data)))"
   ],
   "metadata": {
    "collapsed": false
   }
  },
  {
   "cell_type": "code",
   "execution_count": 7,
   "outputs": [
    {
     "data": {
      "text/plain": "                                                       data  last_updated  ttl\nstations  [{'eightd_has_key_dispenser': False, 'short_na...    1673660428    5",
      "text/html": "<div>\n<style scoped>\n    .dataframe tbody tr th:only-of-type {\n        vertical-align: middle;\n    }\n\n    .dataframe tbody tr th {\n        vertical-align: top;\n    }\n\n    .dataframe thead th {\n        text-align: right;\n    }\n</style>\n<table border=\"1\" class=\"dataframe\">\n  <thead>\n    <tr style=\"text-align: right;\">\n      <th></th>\n      <th>data</th>\n      <th>last_updated</th>\n      <th>ttl</th>\n    </tr>\n  </thead>\n  <tbody>\n    <tr>\n      <th>stations</th>\n      <td>[{'eightd_has_key_dispenser': False, 'short_na...</td>\n      <td>1673660428</td>\n      <td>5</td>\n    </tr>\n  </tbody>\n</table>\n</div>"
     },
     "execution_count": 7,
     "metadata": {},
     "output_type": "execute_result"
    }
   ],
   "source": [],
   "metadata": {
    "collapsed": false,
    "pycharm": {
     "name": "#%%\n"
    }
   }
  },
  {
   "cell_type": "code",
   "execution_count": 8,
   "outputs": [],
   "source": [
    "# StationInformationTimeSeries is the DataFrame\n",
    "\n",
    "appended_data = []\n",
    "for key in range(len(dataframe_dataStationInformation)):\n",
    "    tmpDataStationInformation = pd.json_normalize(dataframe_dataStationInformation[key]['data']['stations'])\n",
    "    tmpDataStationInformation['time_stamp'] = dataframe_key_dataStationInformation[key]\n",
    "    appended_data.append(tmpDataStationInformation)\n",
    "StationInformationTimeSeries = pd.concat(appended_data, ignore_index = True)\n",
    "\n",
    "# station_id, name, short_name*, lat, lon, time_stamp, capacity, region_id"
   ],
   "metadata": {
    "collapsed": false
   }
  },
  {
   "cell_type": "code",
   "execution_count": 14,
   "outputs": [
    {
     "data": {
      "text/plain": "array(['70', '71', '311', nan], dtype=object)"
     },
     "execution_count": 14,
     "metadata": {},
     "output_type": "execute_result"
    }
   ],
   "source": [
    "# Need to investigate NaN to see where we can group these entries\n",
    "\n",
    "#  region_id NaN only belongs to station_id 4987 and it can be dropped from\n",
    "# the entire dataframe\n",
    "StationInformationTimeSeries[\"region_id\"].unique()\n"
   ],
   "metadata": {
    "collapsed": false,
    "pycharm": {
     "name": "#%%\n"
    }
   }
  },
  {
   "cell_type": "code",
   "execution_count": 16,
   "outputs": [
    {
     "data": {
      "text/plain": "         eightd_has_key_dispenser short_name  capacity     rental_methods  \\\n1807                        False    4567.07         0  [CREDITCARD, KEY]   \n3641                        False    4567.07         0  [CREDITCARD, KEY]   \n5475                        False    4567.07         0  [CREDITCARD, KEY]   \n7309                        False    4567.07         0  [CREDITCARD, KEY]   \n9143                        False    4567.07         0  [CREDITCARD, KEY]   \n...                           ...        ...       ...                ...   \n1824255                     False    4567.07         0  [CREDITCARD, KEY]   \n1826100                     False    4567.07         0  [KEY, CREDITCARD]   \n1827945                     False    4567.07         0  [KEY, CREDITCARD]   \n1829790                     False    4567.07         0  [CREDITCARD, KEY]   \n1831635                     False    4567.07         0  [CREDITCARD, KEY]   \n\n            name  lon eightd_station_services station_type  \\\n1807     4567.07  0.0                      []      classic   \n3641     4567.07  0.0                      []      classic   \n5475     4567.07  0.0                      []      classic   \n7309     4567.07  0.0                      []      classic   \n9143     4567.07  0.0                      []      classic   \n...          ...  ...                     ...          ...   \n1824255  4567.07  0.0                      []      classic   \n1826100  4567.07  0.0                      []      classic   \n1827945  4567.07  0.0                      []      classic   \n1829790  4567.07  0.0                      []      classic   \n1831635  4567.07  0.0                      []      classic   \n\n         electric_bike_surcharge_waiver  has_kiosk  lat legacy_id  \\\n1807                              False      False  0.0      4987   \n3641                              False      False  0.0      4987   \n5475                              False      False  0.0      4987   \n7309                              False      False  0.0      4987   \n9143                              False      False  0.0      4987   \n...                                 ...        ...  ...       ...   \n1824255                           False      False  0.0      4987   \n1826100                           False      False  0.0      4987   \n1827945                           False      False  0.0      4987   \n1829790                           False      False  0.0      4987   \n1831635                           False      False  0.0      4987   \n\n                                  external_id region_id station_id  \\\n1807     a3936c86-4551-4c08-9fe4-ddd87a727205       NaN       4987   \n3641     a3936c86-4551-4c08-9fe4-ddd87a727205       NaN       4987   \n5475     a3936c86-4551-4c08-9fe4-ddd87a727205       NaN       4987   \n7309     a3936c86-4551-4c08-9fe4-ddd87a727205       NaN       4987   \n9143     a3936c86-4551-4c08-9fe4-ddd87a727205       NaN       4987   \n...                                       ...       ...        ...   \n1824255  a3936c86-4551-4c08-9fe4-ddd87a727205       NaN       4987   \n1826100  a3936c86-4551-4c08-9fe4-ddd87a727205       NaN       4987   \n1827945  a3936c86-4551-4c08-9fe4-ddd87a727205       NaN       4987   \n1829790  a3936c86-4551-4c08-9fe4-ddd87a727205       NaN       4987   \n1831635  a3936c86-4551-4c08-9fe4-ddd87a727205       NaN       4987   \n\n                             rental_uris.ios  \\\n1807     https://bkn.lft.to/lastmile_qr_scan   \n3641     https://bkn.lft.to/lastmile_qr_scan   \n5475     https://bkn.lft.to/lastmile_qr_scan   \n7309     https://bkn.lft.to/lastmile_qr_scan   \n9143     https://bkn.lft.to/lastmile_qr_scan   \n...                                      ...   \n1824255  https://bkn.lft.to/lastmile_qr_scan   \n1826100  https://bkn.lft.to/lastmile_qr_scan   \n1827945  https://bkn.lft.to/lastmile_qr_scan   \n1829790  https://bkn.lft.to/lastmile_qr_scan   \n1831635  https://bkn.lft.to/lastmile_qr_scan   \n\n                         rental_uris.android        time_stamp  \n1807     https://bkn.lft.to/lastmile_qr_scan  2023-01-14 01:40  \n3641     https://bkn.lft.to/lastmile_qr_scan  2023-01-14 01:50  \n5475     https://bkn.lft.to/lastmile_qr_scan  2023-01-14 02:00  \n7309     https://bkn.lft.to/lastmile_qr_scan  2023-01-14 02:10  \n9143     https://bkn.lft.to/lastmile_qr_scan  2023-01-14 02:20  \n...                                      ...               ...  \n1824255  https://bkn.lft.to/lastmile_qr_scan  2023-01-20 23:10  \n1826100  https://bkn.lft.to/lastmile_qr_scan  2023-01-20 23:20  \n1827945  https://bkn.lft.to/lastmile_qr_scan  2023-01-20 23:30  \n1829790  https://bkn.lft.to/lastmile_qr_scan  2023-01-20 23:40  \n1831635  https://bkn.lft.to/lastmile_qr_scan  2023-01-20 23:50  \n\n[998 rows x 18 columns]",
      "text/html": "<div>\n<style scoped>\n    .dataframe tbody tr th:only-of-type {\n        vertical-align: middle;\n    }\n\n    .dataframe tbody tr th {\n        vertical-align: top;\n    }\n\n    .dataframe thead th {\n        text-align: right;\n    }\n</style>\n<table border=\"1\" class=\"dataframe\">\n  <thead>\n    <tr style=\"text-align: right;\">\n      <th></th>\n      <th>eightd_has_key_dispenser</th>\n      <th>short_name</th>\n      <th>capacity</th>\n      <th>rental_methods</th>\n      <th>name</th>\n      <th>lon</th>\n      <th>eightd_station_services</th>\n      <th>station_type</th>\n      <th>electric_bike_surcharge_waiver</th>\n      <th>has_kiosk</th>\n      <th>lat</th>\n      <th>legacy_id</th>\n      <th>external_id</th>\n      <th>region_id</th>\n      <th>station_id</th>\n      <th>rental_uris.ios</th>\n      <th>rental_uris.android</th>\n      <th>time_stamp</th>\n    </tr>\n  </thead>\n  <tbody>\n    <tr>\n      <th>1807</th>\n      <td>False</td>\n      <td>4567.07</td>\n      <td>0</td>\n      <td>[CREDITCARD, KEY]</td>\n      <td>4567.07</td>\n      <td>0.0</td>\n      <td>[]</td>\n      <td>classic</td>\n      <td>False</td>\n      <td>False</td>\n      <td>0.0</td>\n      <td>4987</td>\n      <td>a3936c86-4551-4c08-9fe4-ddd87a727205</td>\n      <td>NaN</td>\n      <td>4987</td>\n      <td>https://bkn.lft.to/lastmile_qr_scan</td>\n      <td>https://bkn.lft.to/lastmile_qr_scan</td>\n      <td>2023-01-14 01:40</td>\n    </tr>\n    <tr>\n      <th>3641</th>\n      <td>False</td>\n      <td>4567.07</td>\n      <td>0</td>\n      <td>[CREDITCARD, KEY]</td>\n      <td>4567.07</td>\n      <td>0.0</td>\n      <td>[]</td>\n      <td>classic</td>\n      <td>False</td>\n      <td>False</td>\n      <td>0.0</td>\n      <td>4987</td>\n      <td>a3936c86-4551-4c08-9fe4-ddd87a727205</td>\n      <td>NaN</td>\n      <td>4987</td>\n      <td>https://bkn.lft.to/lastmile_qr_scan</td>\n      <td>https://bkn.lft.to/lastmile_qr_scan</td>\n      <td>2023-01-14 01:50</td>\n    </tr>\n    <tr>\n      <th>5475</th>\n      <td>False</td>\n      <td>4567.07</td>\n      <td>0</td>\n      <td>[CREDITCARD, KEY]</td>\n      <td>4567.07</td>\n      <td>0.0</td>\n      <td>[]</td>\n      <td>classic</td>\n      <td>False</td>\n      <td>False</td>\n      <td>0.0</td>\n      <td>4987</td>\n      <td>a3936c86-4551-4c08-9fe4-ddd87a727205</td>\n      <td>NaN</td>\n      <td>4987</td>\n      <td>https://bkn.lft.to/lastmile_qr_scan</td>\n      <td>https://bkn.lft.to/lastmile_qr_scan</td>\n      <td>2023-01-14 02:00</td>\n    </tr>\n    <tr>\n      <th>7309</th>\n      <td>False</td>\n      <td>4567.07</td>\n      <td>0</td>\n      <td>[CREDITCARD, KEY]</td>\n      <td>4567.07</td>\n      <td>0.0</td>\n      <td>[]</td>\n      <td>classic</td>\n      <td>False</td>\n      <td>False</td>\n      <td>0.0</td>\n      <td>4987</td>\n      <td>a3936c86-4551-4c08-9fe4-ddd87a727205</td>\n      <td>NaN</td>\n      <td>4987</td>\n      <td>https://bkn.lft.to/lastmile_qr_scan</td>\n      <td>https://bkn.lft.to/lastmile_qr_scan</td>\n      <td>2023-01-14 02:10</td>\n    </tr>\n    <tr>\n      <th>9143</th>\n      <td>False</td>\n      <td>4567.07</td>\n      <td>0</td>\n      <td>[CREDITCARD, KEY]</td>\n      <td>4567.07</td>\n      <td>0.0</td>\n      <td>[]</td>\n      <td>classic</td>\n      <td>False</td>\n      <td>False</td>\n      <td>0.0</td>\n      <td>4987</td>\n      <td>a3936c86-4551-4c08-9fe4-ddd87a727205</td>\n      <td>NaN</td>\n      <td>4987</td>\n      <td>https://bkn.lft.to/lastmile_qr_scan</td>\n      <td>https://bkn.lft.to/lastmile_qr_scan</td>\n      <td>2023-01-14 02:20</td>\n    </tr>\n    <tr>\n      <th>...</th>\n      <td>...</td>\n      <td>...</td>\n      <td>...</td>\n      <td>...</td>\n      <td>...</td>\n      <td>...</td>\n      <td>...</td>\n      <td>...</td>\n      <td>...</td>\n      <td>...</td>\n      <td>...</td>\n      <td>...</td>\n      <td>...</td>\n      <td>...</td>\n      <td>...</td>\n      <td>...</td>\n      <td>...</td>\n      <td>...</td>\n    </tr>\n    <tr>\n      <th>1824255</th>\n      <td>False</td>\n      <td>4567.07</td>\n      <td>0</td>\n      <td>[CREDITCARD, KEY]</td>\n      <td>4567.07</td>\n      <td>0.0</td>\n      <td>[]</td>\n      <td>classic</td>\n      <td>False</td>\n      <td>False</td>\n      <td>0.0</td>\n      <td>4987</td>\n      <td>a3936c86-4551-4c08-9fe4-ddd87a727205</td>\n      <td>NaN</td>\n      <td>4987</td>\n      <td>https://bkn.lft.to/lastmile_qr_scan</td>\n      <td>https://bkn.lft.to/lastmile_qr_scan</td>\n      <td>2023-01-20 23:10</td>\n    </tr>\n    <tr>\n      <th>1826100</th>\n      <td>False</td>\n      <td>4567.07</td>\n      <td>0</td>\n      <td>[KEY, CREDITCARD]</td>\n      <td>4567.07</td>\n      <td>0.0</td>\n      <td>[]</td>\n      <td>classic</td>\n      <td>False</td>\n      <td>False</td>\n      <td>0.0</td>\n      <td>4987</td>\n      <td>a3936c86-4551-4c08-9fe4-ddd87a727205</td>\n      <td>NaN</td>\n      <td>4987</td>\n      <td>https://bkn.lft.to/lastmile_qr_scan</td>\n      <td>https://bkn.lft.to/lastmile_qr_scan</td>\n      <td>2023-01-20 23:20</td>\n    </tr>\n    <tr>\n      <th>1827945</th>\n      <td>False</td>\n      <td>4567.07</td>\n      <td>0</td>\n      <td>[KEY, CREDITCARD]</td>\n      <td>4567.07</td>\n      <td>0.0</td>\n      <td>[]</td>\n      <td>classic</td>\n      <td>False</td>\n      <td>False</td>\n      <td>0.0</td>\n      <td>4987</td>\n      <td>a3936c86-4551-4c08-9fe4-ddd87a727205</td>\n      <td>NaN</td>\n      <td>4987</td>\n      <td>https://bkn.lft.to/lastmile_qr_scan</td>\n      <td>https://bkn.lft.to/lastmile_qr_scan</td>\n      <td>2023-01-20 23:30</td>\n    </tr>\n    <tr>\n      <th>1829790</th>\n      <td>False</td>\n      <td>4567.07</td>\n      <td>0</td>\n      <td>[CREDITCARD, KEY]</td>\n      <td>4567.07</td>\n      <td>0.0</td>\n      <td>[]</td>\n      <td>classic</td>\n      <td>False</td>\n      <td>False</td>\n      <td>0.0</td>\n      <td>4987</td>\n      <td>a3936c86-4551-4c08-9fe4-ddd87a727205</td>\n      <td>NaN</td>\n      <td>4987</td>\n      <td>https://bkn.lft.to/lastmile_qr_scan</td>\n      <td>https://bkn.lft.to/lastmile_qr_scan</td>\n      <td>2023-01-20 23:40</td>\n    </tr>\n    <tr>\n      <th>1831635</th>\n      <td>False</td>\n      <td>4567.07</td>\n      <td>0</td>\n      <td>[CREDITCARD, KEY]</td>\n      <td>4567.07</td>\n      <td>0.0</td>\n      <td>[]</td>\n      <td>classic</td>\n      <td>False</td>\n      <td>False</td>\n      <td>0.0</td>\n      <td>4987</td>\n      <td>a3936c86-4551-4c08-9fe4-ddd87a727205</td>\n      <td>NaN</td>\n      <td>4987</td>\n      <td>https://bkn.lft.to/lastmile_qr_scan</td>\n      <td>https://bkn.lft.to/lastmile_qr_scan</td>\n      <td>2023-01-20 23:50</td>\n    </tr>\n  </tbody>\n</table>\n<p>998 rows × 18 columns</p>\n</div>"
     },
     "execution_count": 16,
     "metadata": {},
     "output_type": "execute_result"
    }
   ],
   "source": [
    "# Station ID 4987 may be out of order or removed and can be purged from the list, it is safe to assume it is just being logged and someone forgot to remove it from the real time feed\n",
    "StationInformationTimeSeries[StationInformationTimeSeries.region_id.isnull()]"
   ],
   "metadata": {
    "collapsed": false,
    "pycharm": {
     "name": "#%%\n"
    }
   }
  },
  {
   "cell_type": "code",
   "execution_count": 17,
   "outputs": [
    {
     "data": {
      "text/plain": "         eightd_has_key_dispenser short_name  capacity     rental_methods  \\\n1807                        False    4567.07         0  [CREDITCARD, KEY]   \n3641                        False    4567.07         0  [CREDITCARD, KEY]   \n5475                        False    4567.07         0  [CREDITCARD, KEY]   \n7309                        False    4567.07         0  [CREDITCARD, KEY]   \n9143                        False    4567.07         0  [CREDITCARD, KEY]   \n...                           ...        ...       ...                ...   \n1824255                     False    4567.07         0  [CREDITCARD, KEY]   \n1826100                     False    4567.07         0  [KEY, CREDITCARD]   \n1827945                     False    4567.07         0  [KEY, CREDITCARD]   \n1829790                     False    4567.07         0  [CREDITCARD, KEY]   \n1831635                     False    4567.07         0  [CREDITCARD, KEY]   \n\n            name  lon eightd_station_services station_type  \\\n1807     4567.07  0.0                      []      classic   \n3641     4567.07  0.0                      []      classic   \n5475     4567.07  0.0                      []      classic   \n7309     4567.07  0.0                      []      classic   \n9143     4567.07  0.0                      []      classic   \n...          ...  ...                     ...          ...   \n1824255  4567.07  0.0                      []      classic   \n1826100  4567.07  0.0                      []      classic   \n1827945  4567.07  0.0                      []      classic   \n1829790  4567.07  0.0                      []      classic   \n1831635  4567.07  0.0                      []      classic   \n\n         electric_bike_surcharge_waiver  has_kiosk  lat legacy_id  \\\n1807                              False      False  0.0      4987   \n3641                              False      False  0.0      4987   \n5475                              False      False  0.0      4987   \n7309                              False      False  0.0      4987   \n9143                              False      False  0.0      4987   \n...                                 ...        ...  ...       ...   \n1824255                           False      False  0.0      4987   \n1826100                           False      False  0.0      4987   \n1827945                           False      False  0.0      4987   \n1829790                           False      False  0.0      4987   \n1831635                           False      False  0.0      4987   \n\n                                  external_id region_id station_id  \\\n1807     a3936c86-4551-4c08-9fe4-ddd87a727205       NaN       4987   \n3641     a3936c86-4551-4c08-9fe4-ddd87a727205       NaN       4987   \n5475     a3936c86-4551-4c08-9fe4-ddd87a727205       NaN       4987   \n7309     a3936c86-4551-4c08-9fe4-ddd87a727205       NaN       4987   \n9143     a3936c86-4551-4c08-9fe4-ddd87a727205       NaN       4987   \n...                                       ...       ...        ...   \n1824255  a3936c86-4551-4c08-9fe4-ddd87a727205       NaN       4987   \n1826100  a3936c86-4551-4c08-9fe4-ddd87a727205       NaN       4987   \n1827945  a3936c86-4551-4c08-9fe4-ddd87a727205       NaN       4987   \n1829790  a3936c86-4551-4c08-9fe4-ddd87a727205       NaN       4987   \n1831635  a3936c86-4551-4c08-9fe4-ddd87a727205       NaN       4987   \n\n                             rental_uris.ios  \\\n1807     https://bkn.lft.to/lastmile_qr_scan   \n3641     https://bkn.lft.to/lastmile_qr_scan   \n5475     https://bkn.lft.to/lastmile_qr_scan   \n7309     https://bkn.lft.to/lastmile_qr_scan   \n9143     https://bkn.lft.to/lastmile_qr_scan   \n...                                      ...   \n1824255  https://bkn.lft.to/lastmile_qr_scan   \n1826100  https://bkn.lft.to/lastmile_qr_scan   \n1827945  https://bkn.lft.to/lastmile_qr_scan   \n1829790  https://bkn.lft.to/lastmile_qr_scan   \n1831635  https://bkn.lft.to/lastmile_qr_scan   \n\n                         rental_uris.android        time_stamp  \n1807     https://bkn.lft.to/lastmile_qr_scan  2023-01-14 01:40  \n3641     https://bkn.lft.to/lastmile_qr_scan  2023-01-14 01:50  \n5475     https://bkn.lft.to/lastmile_qr_scan  2023-01-14 02:00  \n7309     https://bkn.lft.to/lastmile_qr_scan  2023-01-14 02:10  \n9143     https://bkn.lft.to/lastmile_qr_scan  2023-01-14 02:20  \n...                                      ...               ...  \n1824255  https://bkn.lft.to/lastmile_qr_scan  2023-01-20 23:10  \n1826100  https://bkn.lft.to/lastmile_qr_scan  2023-01-20 23:20  \n1827945  https://bkn.lft.to/lastmile_qr_scan  2023-01-20 23:30  \n1829790  https://bkn.lft.to/lastmile_qr_scan  2023-01-20 23:40  \n1831635  https://bkn.lft.to/lastmile_qr_scan  2023-01-20 23:50  \n\n[998 rows x 18 columns]",
      "text/html": "<div>\n<style scoped>\n    .dataframe tbody tr th:only-of-type {\n        vertical-align: middle;\n    }\n\n    .dataframe tbody tr th {\n        vertical-align: top;\n    }\n\n    .dataframe thead th {\n        text-align: right;\n    }\n</style>\n<table border=\"1\" class=\"dataframe\">\n  <thead>\n    <tr style=\"text-align: right;\">\n      <th></th>\n      <th>eightd_has_key_dispenser</th>\n      <th>short_name</th>\n      <th>capacity</th>\n      <th>rental_methods</th>\n      <th>name</th>\n      <th>lon</th>\n      <th>eightd_station_services</th>\n      <th>station_type</th>\n      <th>electric_bike_surcharge_waiver</th>\n      <th>has_kiosk</th>\n      <th>lat</th>\n      <th>legacy_id</th>\n      <th>external_id</th>\n      <th>region_id</th>\n      <th>station_id</th>\n      <th>rental_uris.ios</th>\n      <th>rental_uris.android</th>\n      <th>time_stamp</th>\n    </tr>\n  </thead>\n  <tbody>\n    <tr>\n      <th>1807</th>\n      <td>False</td>\n      <td>4567.07</td>\n      <td>0</td>\n      <td>[CREDITCARD, KEY]</td>\n      <td>4567.07</td>\n      <td>0.0</td>\n      <td>[]</td>\n      <td>classic</td>\n      <td>False</td>\n      <td>False</td>\n      <td>0.0</td>\n      <td>4987</td>\n      <td>a3936c86-4551-4c08-9fe4-ddd87a727205</td>\n      <td>NaN</td>\n      <td>4987</td>\n      <td>https://bkn.lft.to/lastmile_qr_scan</td>\n      <td>https://bkn.lft.to/lastmile_qr_scan</td>\n      <td>2023-01-14 01:40</td>\n    </tr>\n    <tr>\n      <th>3641</th>\n      <td>False</td>\n      <td>4567.07</td>\n      <td>0</td>\n      <td>[CREDITCARD, KEY]</td>\n      <td>4567.07</td>\n      <td>0.0</td>\n      <td>[]</td>\n      <td>classic</td>\n      <td>False</td>\n      <td>False</td>\n      <td>0.0</td>\n      <td>4987</td>\n      <td>a3936c86-4551-4c08-9fe4-ddd87a727205</td>\n      <td>NaN</td>\n      <td>4987</td>\n      <td>https://bkn.lft.to/lastmile_qr_scan</td>\n      <td>https://bkn.lft.to/lastmile_qr_scan</td>\n      <td>2023-01-14 01:50</td>\n    </tr>\n    <tr>\n      <th>5475</th>\n      <td>False</td>\n      <td>4567.07</td>\n      <td>0</td>\n      <td>[CREDITCARD, KEY]</td>\n      <td>4567.07</td>\n      <td>0.0</td>\n      <td>[]</td>\n      <td>classic</td>\n      <td>False</td>\n      <td>False</td>\n      <td>0.0</td>\n      <td>4987</td>\n      <td>a3936c86-4551-4c08-9fe4-ddd87a727205</td>\n      <td>NaN</td>\n      <td>4987</td>\n      <td>https://bkn.lft.to/lastmile_qr_scan</td>\n      <td>https://bkn.lft.to/lastmile_qr_scan</td>\n      <td>2023-01-14 02:00</td>\n    </tr>\n    <tr>\n      <th>7309</th>\n      <td>False</td>\n      <td>4567.07</td>\n      <td>0</td>\n      <td>[CREDITCARD, KEY]</td>\n      <td>4567.07</td>\n      <td>0.0</td>\n      <td>[]</td>\n      <td>classic</td>\n      <td>False</td>\n      <td>False</td>\n      <td>0.0</td>\n      <td>4987</td>\n      <td>a3936c86-4551-4c08-9fe4-ddd87a727205</td>\n      <td>NaN</td>\n      <td>4987</td>\n      <td>https://bkn.lft.to/lastmile_qr_scan</td>\n      <td>https://bkn.lft.to/lastmile_qr_scan</td>\n      <td>2023-01-14 02:10</td>\n    </tr>\n    <tr>\n      <th>9143</th>\n      <td>False</td>\n      <td>4567.07</td>\n      <td>0</td>\n      <td>[CREDITCARD, KEY]</td>\n      <td>4567.07</td>\n      <td>0.0</td>\n      <td>[]</td>\n      <td>classic</td>\n      <td>False</td>\n      <td>False</td>\n      <td>0.0</td>\n      <td>4987</td>\n      <td>a3936c86-4551-4c08-9fe4-ddd87a727205</td>\n      <td>NaN</td>\n      <td>4987</td>\n      <td>https://bkn.lft.to/lastmile_qr_scan</td>\n      <td>https://bkn.lft.to/lastmile_qr_scan</td>\n      <td>2023-01-14 02:20</td>\n    </tr>\n    <tr>\n      <th>...</th>\n      <td>...</td>\n      <td>...</td>\n      <td>...</td>\n      <td>...</td>\n      <td>...</td>\n      <td>...</td>\n      <td>...</td>\n      <td>...</td>\n      <td>...</td>\n      <td>...</td>\n      <td>...</td>\n      <td>...</td>\n      <td>...</td>\n      <td>...</td>\n      <td>...</td>\n      <td>...</td>\n      <td>...</td>\n      <td>...</td>\n    </tr>\n    <tr>\n      <th>1824255</th>\n      <td>False</td>\n      <td>4567.07</td>\n      <td>0</td>\n      <td>[CREDITCARD, KEY]</td>\n      <td>4567.07</td>\n      <td>0.0</td>\n      <td>[]</td>\n      <td>classic</td>\n      <td>False</td>\n      <td>False</td>\n      <td>0.0</td>\n      <td>4987</td>\n      <td>a3936c86-4551-4c08-9fe4-ddd87a727205</td>\n      <td>NaN</td>\n      <td>4987</td>\n      <td>https://bkn.lft.to/lastmile_qr_scan</td>\n      <td>https://bkn.lft.to/lastmile_qr_scan</td>\n      <td>2023-01-20 23:10</td>\n    </tr>\n    <tr>\n      <th>1826100</th>\n      <td>False</td>\n      <td>4567.07</td>\n      <td>0</td>\n      <td>[KEY, CREDITCARD]</td>\n      <td>4567.07</td>\n      <td>0.0</td>\n      <td>[]</td>\n      <td>classic</td>\n      <td>False</td>\n      <td>False</td>\n      <td>0.0</td>\n      <td>4987</td>\n      <td>a3936c86-4551-4c08-9fe4-ddd87a727205</td>\n      <td>NaN</td>\n      <td>4987</td>\n      <td>https://bkn.lft.to/lastmile_qr_scan</td>\n      <td>https://bkn.lft.to/lastmile_qr_scan</td>\n      <td>2023-01-20 23:20</td>\n    </tr>\n    <tr>\n      <th>1827945</th>\n      <td>False</td>\n      <td>4567.07</td>\n      <td>0</td>\n      <td>[KEY, CREDITCARD]</td>\n      <td>4567.07</td>\n      <td>0.0</td>\n      <td>[]</td>\n      <td>classic</td>\n      <td>False</td>\n      <td>False</td>\n      <td>0.0</td>\n      <td>4987</td>\n      <td>a3936c86-4551-4c08-9fe4-ddd87a727205</td>\n      <td>NaN</td>\n      <td>4987</td>\n      <td>https://bkn.lft.to/lastmile_qr_scan</td>\n      <td>https://bkn.lft.to/lastmile_qr_scan</td>\n      <td>2023-01-20 23:30</td>\n    </tr>\n    <tr>\n      <th>1829790</th>\n      <td>False</td>\n      <td>4567.07</td>\n      <td>0</td>\n      <td>[CREDITCARD, KEY]</td>\n      <td>4567.07</td>\n      <td>0.0</td>\n      <td>[]</td>\n      <td>classic</td>\n      <td>False</td>\n      <td>False</td>\n      <td>0.0</td>\n      <td>4987</td>\n      <td>a3936c86-4551-4c08-9fe4-ddd87a727205</td>\n      <td>NaN</td>\n      <td>4987</td>\n      <td>https://bkn.lft.to/lastmile_qr_scan</td>\n      <td>https://bkn.lft.to/lastmile_qr_scan</td>\n      <td>2023-01-20 23:40</td>\n    </tr>\n    <tr>\n      <th>1831635</th>\n      <td>False</td>\n      <td>4567.07</td>\n      <td>0</td>\n      <td>[CREDITCARD, KEY]</td>\n      <td>4567.07</td>\n      <td>0.0</td>\n      <td>[]</td>\n      <td>classic</td>\n      <td>False</td>\n      <td>False</td>\n      <td>0.0</td>\n      <td>4987</td>\n      <td>a3936c86-4551-4c08-9fe4-ddd87a727205</td>\n      <td>NaN</td>\n      <td>4987</td>\n      <td>https://bkn.lft.to/lastmile_qr_scan</td>\n      <td>https://bkn.lft.to/lastmile_qr_scan</td>\n      <td>2023-01-20 23:50</td>\n    </tr>\n  </tbody>\n</table>\n<p>998 rows × 18 columns</p>\n</div>"
     },
     "execution_count": 17,
     "metadata": {},
     "output_type": "execute_result"
    }
   ],
   "source": [
    "StationInformationTimeSeries[(StationInformationTimeSeries.lat == 0.0) & (StationInformationTimeSeries.lon == 0.0)]"
   ],
   "metadata": {
    "collapsed": false,
    "pycharm": {
     "name": "#%%\n"
    }
   }
  },
  {
   "cell_type": "code",
   "execution_count": 12,
   "outputs": [
    {
     "data": {
      "text/plain": "pandas.core.frame.DataFrame"
     },
     "execution_count": 12,
     "metadata": {},
     "output_type": "execute_result"
    }
   ],
   "source": [
    "type(StationInformationTimeSeries)"
   ],
   "metadata": {
    "collapsed": false,
    "pycharm": {
     "name": "#%%\n"
    }
   }
  },
  {
   "cell_type": "code",
   "execution_count": 9,
   "outputs": [
    {
     "data": {
      "text/plain": "   eightd_has_key_dispenser short_name  capacity     rental_methods  \\\n0                     False      JC003        22  [KEY, CREDITCARD]   \n1                     False      JC002        14  [KEY, CREDITCARD]   \n2                     False      JC008        14  [KEY, CREDITCARD]   \n3                     False      JC009        26  [KEY, CREDITCARD]   \n4                     False      JC006        22  [KEY, CREDITCARD]   \n\n            name        lon eightd_station_services station_type  \\\n0      City Hall -74.043845                      []      classic   \n1    Paulus Hook -74.033552                      []      classic   \n2   Newport Pkwy -74.032108                      []      classic   \n3  Hamilton Park -74.044247                      []      classic   \n4      Warren St -74.038051                      []      classic   \n\n   electric_bike_surcharge_waiver  has_kiosk        lat legacy_id  \\\n0                           False       True  40.717732      3185   \n1                           False       True  40.714145      3184   \n2                           False       True  40.728745      3199   \n3                           False       True  40.727596      3203   \n4                           False       True  40.721124      3187   \n\n                            external_id region_id  \\\n0  66dd5960-0aca-11e7-82f6-3863bb44ef7c        70   \n1  66dd58f2-0aca-11e7-82f6-3863bb44ef7c        70   \n2  66dd6441-0aca-11e7-82f6-3863bb44ef7c        70   \n3  66dd7b37-0aca-11e7-82f6-3863bb44ef7c        70   \n4  66dd5a42-0aca-11e7-82f6-3863bb44ef7c        70   \n\n                             station_id                      rental_uris.ios  \\\n0  66dd5960-0aca-11e7-82f6-3863bb44ef7c  https://bkn.lft.to/lastmile_qr_scan   \n1  66dd58f2-0aca-11e7-82f6-3863bb44ef7c  https://bkn.lft.to/lastmile_qr_scan   \n2  66dd6441-0aca-11e7-82f6-3863bb44ef7c  https://bkn.lft.to/lastmile_qr_scan   \n3  66dd7b37-0aca-11e7-82f6-3863bb44ef7c  https://bkn.lft.to/lastmile_qr_scan   \n4  66dd5a42-0aca-11e7-82f6-3863bb44ef7c  https://bkn.lft.to/lastmile_qr_scan   \n\n                   rental_uris.android        time_stamp  \n0  https://bkn.lft.to/lastmile_qr_scan  2023-01-14 01:40  \n1  https://bkn.lft.to/lastmile_qr_scan  2023-01-14 01:40  \n2  https://bkn.lft.to/lastmile_qr_scan  2023-01-14 01:40  \n3  https://bkn.lft.to/lastmile_qr_scan  2023-01-14 01:40  \n4  https://bkn.lft.to/lastmile_qr_scan  2023-01-14 01:40  ",
      "text/html": "<div>\n<style scoped>\n    .dataframe tbody tr th:only-of-type {\n        vertical-align: middle;\n    }\n\n    .dataframe tbody tr th {\n        vertical-align: top;\n    }\n\n    .dataframe thead th {\n        text-align: right;\n    }\n</style>\n<table border=\"1\" class=\"dataframe\">\n  <thead>\n    <tr style=\"text-align: right;\">\n      <th></th>\n      <th>eightd_has_key_dispenser</th>\n      <th>short_name</th>\n      <th>capacity</th>\n      <th>rental_methods</th>\n      <th>name</th>\n      <th>lon</th>\n      <th>eightd_station_services</th>\n      <th>station_type</th>\n      <th>electric_bike_surcharge_waiver</th>\n      <th>has_kiosk</th>\n      <th>lat</th>\n      <th>legacy_id</th>\n      <th>external_id</th>\n      <th>region_id</th>\n      <th>station_id</th>\n      <th>rental_uris.ios</th>\n      <th>rental_uris.android</th>\n      <th>time_stamp</th>\n    </tr>\n  </thead>\n  <tbody>\n    <tr>\n      <th>0</th>\n      <td>False</td>\n      <td>JC003</td>\n      <td>22</td>\n      <td>[KEY, CREDITCARD]</td>\n      <td>City Hall</td>\n      <td>-74.043845</td>\n      <td>[]</td>\n      <td>classic</td>\n      <td>False</td>\n      <td>True</td>\n      <td>40.717732</td>\n      <td>3185</td>\n      <td>66dd5960-0aca-11e7-82f6-3863bb44ef7c</td>\n      <td>70</td>\n      <td>66dd5960-0aca-11e7-82f6-3863bb44ef7c</td>\n      <td>https://bkn.lft.to/lastmile_qr_scan</td>\n      <td>https://bkn.lft.to/lastmile_qr_scan</td>\n      <td>2023-01-14 01:40</td>\n    </tr>\n    <tr>\n      <th>1</th>\n      <td>False</td>\n      <td>JC002</td>\n      <td>14</td>\n      <td>[KEY, CREDITCARD]</td>\n      <td>Paulus Hook</td>\n      <td>-74.033552</td>\n      <td>[]</td>\n      <td>classic</td>\n      <td>False</td>\n      <td>True</td>\n      <td>40.714145</td>\n      <td>3184</td>\n      <td>66dd58f2-0aca-11e7-82f6-3863bb44ef7c</td>\n      <td>70</td>\n      <td>66dd58f2-0aca-11e7-82f6-3863bb44ef7c</td>\n      <td>https://bkn.lft.to/lastmile_qr_scan</td>\n      <td>https://bkn.lft.to/lastmile_qr_scan</td>\n      <td>2023-01-14 01:40</td>\n    </tr>\n    <tr>\n      <th>2</th>\n      <td>False</td>\n      <td>JC008</td>\n      <td>14</td>\n      <td>[KEY, CREDITCARD]</td>\n      <td>Newport Pkwy</td>\n      <td>-74.032108</td>\n      <td>[]</td>\n      <td>classic</td>\n      <td>False</td>\n      <td>True</td>\n      <td>40.728745</td>\n      <td>3199</td>\n      <td>66dd6441-0aca-11e7-82f6-3863bb44ef7c</td>\n      <td>70</td>\n      <td>66dd6441-0aca-11e7-82f6-3863bb44ef7c</td>\n      <td>https://bkn.lft.to/lastmile_qr_scan</td>\n      <td>https://bkn.lft.to/lastmile_qr_scan</td>\n      <td>2023-01-14 01:40</td>\n    </tr>\n    <tr>\n      <th>3</th>\n      <td>False</td>\n      <td>JC009</td>\n      <td>26</td>\n      <td>[KEY, CREDITCARD]</td>\n      <td>Hamilton Park</td>\n      <td>-74.044247</td>\n      <td>[]</td>\n      <td>classic</td>\n      <td>False</td>\n      <td>True</td>\n      <td>40.727596</td>\n      <td>3203</td>\n      <td>66dd7b37-0aca-11e7-82f6-3863bb44ef7c</td>\n      <td>70</td>\n      <td>66dd7b37-0aca-11e7-82f6-3863bb44ef7c</td>\n      <td>https://bkn.lft.to/lastmile_qr_scan</td>\n      <td>https://bkn.lft.to/lastmile_qr_scan</td>\n      <td>2023-01-14 01:40</td>\n    </tr>\n    <tr>\n      <th>4</th>\n      <td>False</td>\n      <td>JC006</td>\n      <td>22</td>\n      <td>[KEY, CREDITCARD]</td>\n      <td>Warren St</td>\n      <td>-74.038051</td>\n      <td>[]</td>\n      <td>classic</td>\n      <td>False</td>\n      <td>True</td>\n      <td>40.721124</td>\n      <td>3187</td>\n      <td>66dd5a42-0aca-11e7-82f6-3863bb44ef7c</td>\n      <td>70</td>\n      <td>66dd5a42-0aca-11e7-82f6-3863bb44ef7c</td>\n      <td>https://bkn.lft.to/lastmile_qr_scan</td>\n      <td>https://bkn.lft.to/lastmile_qr_scan</td>\n      <td>2023-01-14 01:40</td>\n    </tr>\n  </tbody>\n</table>\n</div>"
     },
     "execution_count": 9,
     "metadata": {},
     "output_type": "execute_result"
    }
   ],
   "source": [
    "StationInformationTimeSeries.head()"
   ],
   "metadata": {
    "collapsed": false
   }
  },
  {
   "cell_type": "code",
   "execution_count": 10,
   "outputs": [
    {
     "name": "stdout",
     "output_type": "stream",
     "text": [
      "<class 'pandas.core.frame.DataFrame'>\n",
      "RangeIndex: 1831671 entries, 0 to 1831670\n",
      "Data columns (total 18 columns):\n",
      " #   Column                          Dtype  \n",
      "---  ------                          -----  \n",
      " 0   eightd_has_key_dispenser        bool   \n",
      " 1   short_name                      object \n",
      " 2   capacity                        int64  \n",
      " 3   rental_methods                  object \n",
      " 4   name                            object \n",
      " 5   lon                             float64\n",
      " 6   eightd_station_services         object \n",
      " 7   station_type                    object \n",
      " 8   electric_bike_surcharge_waiver  bool   \n",
      " 9   has_kiosk                       bool   \n",
      " 10  lat                             float64\n",
      " 11  legacy_id                       object \n",
      " 12  external_id                     object \n",
      " 13  region_id                       object \n",
      " 14  station_id                      object \n",
      " 15  rental_uris.ios                 object \n",
      " 16  rental_uris.android             object \n",
      " 17  time_stamp                      object \n",
      "dtypes: bool(3), float64(2), int64(1), object(12)\n",
      "memory usage: 214.9+ MB\n"
     ]
    }
   ],
   "source": [
    "StationInformationTimeSeries.info()"
   ],
   "metadata": {
    "collapsed": false
   }
  },
  {
   "cell_type": "markdown",
   "source": [],
   "metadata": {
    "collapsed": false
   }
  }
 ],
 "metadata": {
  "kernelspec": {
   "display_name": "Python 3",
   "language": "python",
   "name": "python3"
  },
  "language_info": {
   "codemirror_mode": {
    "name": "ipython",
    "version": 2
   },
   "file_extension": ".py",
   "mimetype": "text/x-python",
   "name": "python",
   "nbconvert_exporter": "python",
   "pygments_lexer": "ipython2",
   "version": "2.7.6"
  }
 },
 "nbformat": 4,
 "nbformat_minor": 0
}